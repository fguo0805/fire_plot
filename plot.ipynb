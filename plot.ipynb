{
 "cells": [
  {
   "cell_type": "code",
   "execution_count": 127,
   "id": "0ff23c6d",
   "metadata": {},
   "outputs": [],
   "source": [
    "import pandas as pd\n",
    "import folium\n",
    "import os\n",
    "\n",
    "# 读取数据\n",
    "df = pd.read_excel(\"./储能火灾事故分析.xlsx\")\n",
    "\n",
    "# Delete NA rows\n",
    "df = df[df['经纬度坐标'].notna()]\n",
    "\n",
    "# 假设列名是 'Custom location (Lat, Lon)'\n",
    "df[['Latitude', 'Longitude']] = df['经纬度坐标'].str.split(',', expand=True)\n",
    "\n",
    "# 转换为浮点数\n",
    "df['Latitude'] = pd.to_numeric(df['Latitude'].str.replace('\\ufeff', '').str.strip(), errors='coerce')\n",
    "df['Longitude'] = pd.to_numeric(df['Longitude'].str.strip(), errors='coerce')"
   ]
  },
  {
   "cell_type": "code",
   "execution_count": 128,
   "id": "0ac6bdc0",
   "metadata": {},
   "outputs": [],
   "source": [
    "# 定义分类函数\n",
    "def classify_battery_type(x):\n",
    "    if pd.isna(x):\n",
    "        return '其他'\n",
    "    \n",
    "    x = str(x).lower().replace(' ', '')  # 转小写并去空格\n",
    "    \n",
    "    if any(keyword in x for keyword in ['磷酸铁锂', 'lfp']):\n",
    "        return '磷酸铁锂'\n",
    "    elif any(keyword in x for keyword in ['三元', 'nmc', 'nca']):\n",
    "        return '三元锂'\n",
    "    elif any(keyword in x for keyword in ['NaS']):\n",
    "        return '钠硫'\n",
    "    elif any(keyword in x for keyword in ['PbA']):\n",
    "        return '铅酸'\n",
    "    else:\n",
    "        return 'unknown'\n",
    "\n",
    "# 应用分类函数\n",
    "df['电池类型分类'] = df['电池类型（三元/铁锂）'].apply(classify_battery_type)"
   ]
  },
  {
   "cell_type": "code",
   "execution_count": 129,
   "id": "36592082",
   "metadata": {},
   "outputs": [],
   "source": [
    "# 确保时间列是 datetime 类型\n",
    "df['时间'] = df['时间'].astype(str)\n",
    "df['时间'] = pd.to_datetime(df['时间'], format=\"%Y-%m-%d\", errors='coerce')\n",
    "\n",
    "# 按时间升序排序\n",
    "df = df.sort_values(by='时间', ascending=True).reset_index(drop=True)"
   ]
  },
  {
   "cell_type": "code",
   "execution_count": 131,
   "id": "fd643ad9",
   "metadata": {},
   "outputs": [],
   "source": [
    "m = folium.Map(location=[20, 0], zoom_start=2)\n",
    "\n",
    "for _, row in df.iterrows():\n",
    "    popup_text = f\"\"\"\n",
    "    <b>Event Date:</b> {row['时间']}<br>\n",
    "    <b>Capacity (MWh):</b> {row['规模 MWh']}<br>\n",
    "    <b>Battery Modules:</b> {row['电池类型（三元/铁锂）']}<br>\n",
    "    <b>Root Cause:</b> {row['直接原因']}\n",
    "    \"\"\"\n",
    "    folium.Marker(\n",
    "        location=[row['Latitude'], row['Longitude']],\n",
    "        popup=popup_text,\n",
    "        icon=folium.Icon(color='red', icon='fire')\n",
    "    ).add_to(m)\n",
    "\n",
    "# 输出 HTML 文件到 templates 文件夹（供 Flask 使用）\n",
    "os.makedirs(\"templates\", exist_ok=True)"
   ]
  },
  {
   "cell_type": "code",
   "execution_count": 132,
   "id": "7d02bde9",
   "metadata": {},
   "outputs": [],
   "source": [
    "m.save(\"templates/storage_fire_map.html\")"
   ]
  }
 ],
 "metadata": {
  "kernelspec": {
   "display_name": "base",
   "language": "python",
   "name": "python3"
  },
  "language_info": {
   "codemirror_mode": {
    "name": "ipython",
    "version": 3
   },
   "file_extension": ".py",
   "mimetype": "text/x-python",
   "name": "python",
   "nbconvert_exporter": "python",
   "pygments_lexer": "ipython3",
   "version": "3.12.4"
  }
 },
 "nbformat": 4,
 "nbformat_minor": 5
}
