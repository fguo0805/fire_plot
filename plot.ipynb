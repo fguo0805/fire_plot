{
 "cells": [
  {
   "cell_type": "code",
   "execution_count": 1,
   "id": "0ff23c6d",
   "metadata": {},
   "outputs": [],
   "source": [
    "import pandas as pd\n",
    "import folium\n",
    "import os\n",
    "\n",
    "# 读取数据\n",
    "df = pd.read_csv(\"./Failure_DB_List.csv\")\n",
    "\n",
    "# 假设列名是 'Custom location (Lat, Lon)'\n",
    "df[['Latitude', 'Longitude']] = df['Custom location (Lat, Lon)'].str.split(',', expand=True)\n",
    "\n",
    "# 转换为浮点数\n",
    "df['Latitude'] = df['Latitude'].astype(float)\n",
    "df['Longitude'] = df['Longitude'].astype(float)\n",
    "\n",
    "country_coords = {\n",
    "    'USA': [37.0902, -95.7129],\n",
    "    'Japan': [36.2048, 138.2529],\n",
    "    'UK': [55.3781, -3.4360],\n",
    "    'South Korea': [35.9078, 127.7669],\n",
    "    'Belgium': [50.5039, 4.4699],\n",
    "    'China': [35.8617, 104.1954],\n",
    "    'Germany': [51.1657, 10.4515],\n",
    "    'Australia': [-25.2744, 133.7751]\n",
    "}\n",
    "\n",
    "# 2. 提取国家名（如果是像 \"South Korea, YoungCheon City\"）\n",
    "df['Country Extracted'] = df['Location'].apply(lambda x: x.split(',')[0].strip() if pd.notna(x) else None)\n",
    "\n",
    "# 3. 定义填充函数\n",
    "def fill_missing_coords(row):\n",
    "    if pd.isna(row['Latitude']) or pd.isna(row['Longitude']):\n",
    "        country = row['Country Extracted']\n",
    "        if country in country_coords:\n",
    "            lat, lon = country_coords[country]\n",
    "            return pd.Series({'Latitude': lat, 'Longitude': lon})\n",
    "    return pd.Series({'Latitude': row['Latitude'], 'Longitude': row['Longitude']})\n",
    "\n",
    "# 4. 应用填补\n",
    "df[['Latitude', 'Longitude']] = df.apply(fill_missing_coords, axis=1)"
   ]
  },
  {
   "cell_type": "code",
   "execution_count": 3,
   "id": "fd643ad9",
   "metadata": {},
   "outputs": [],
   "source": [
    "m = folium.Map(location=[20, 0], zoom_start=2)\n",
    "\n",
    "for _, row in df.iterrows():\n",
    "    popup_text = f\"\"\"\n",
    "    <b>Event Date:</b> {row['Event Date']}<br>\n",
    "    <b>Capacity (MWh):</b> {row['Capacity (MWh)']}<br>\n",
    "    <b>Battery Modules:</b> {row['Battery Modules']}<br>\n",
    "    <b>Root Cause:</b> {row['Root Cause']}\n",
    "    \"\"\"\n",
    "    folium.Marker(\n",
    "        location=[row['Latitude'], row['Longitude']],\n",
    "        popup=popup_text,\n",
    "        icon=folium.Icon(color='red', icon='fire')\n",
    "    ).add_to(m)\n",
    "\n",
    "# 输出 HTML 文件到 templates 文件夹（供 Flask 使用）\n",
    "os.makedirs(\"templates\", exist_ok=True)"
   ]
  },
  {
   "cell_type": "code",
   "execution_count": 4,
   "id": "7d02bde9",
   "metadata": {},
   "outputs": [],
   "source": [
    "m.save(\"templates/storage_fire_map.html\")"
   ]
  }
 ],
 "metadata": {
  "kernelspec": {
   "display_name": "base",
   "language": "python",
   "name": "python3"
  },
  "language_info": {
   "codemirror_mode": {
    "name": "ipython",
    "version": 3
   },
   "file_extension": ".py",
   "mimetype": "text/x-python",
   "name": "python",
   "nbconvert_exporter": "python",
   "pygments_lexer": "ipython3",
   "version": "3.12.4"
  }
 },
 "nbformat": 4,
 "nbformat_minor": 5
}
